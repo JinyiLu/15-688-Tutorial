{
 "cells": [
  {
   "cell_type": "markdown",
   "metadata": {},
   "source": [
    "# Feature Selection Tutorial"
   ]
  },
  {
   "cell_type": "markdown",
   "metadata": {},
   "source": [
    "## 1. Introduction to Feature Selection"
   ]
  },
  {
   "cell_type": "markdown",
   "metadata": {},
   "source": [
    "## 2. Introduction to Lasso"
   ]
  },
  {
   "cell_type": "markdown",
   "metadata": {},
   "source": [
    "## 3. Variants of Lasso"
   ]
  },
  {
   "cell_type": "markdown",
   "metadata": {},
   "source": [
    "## 4. References\n",
    "1. Guyon, Isabelle, and André Elisseeff. \"An introduction to variable and feature selection.\" Journal of machine learning research 3.Mar (2003): 1157-1182. [link](http://www.jmlr.org/papers/volume3/guyon03a/guyon03a.pdf)\n",
    "* Feature selection - Wikipedia. [link](https://en.wikipedia.org/wiki/Feature_selection)\n",
    "\n",
    "* Sklearn [link](http://scikit-learn.org/stable/modules/feature_selection.html#randomized-l1)\n",
    "* F. Bach, Model-Consistent Sparse Estimation through the Bootstrap. [link]( https://hal.inria.fr/hal-00354771/)\n",
    "* N. Meinshausen, P. Buhlmann, Stability selection, Journal of the Royal Statistical Society, 72 (2010)[link](http://arxiv.org/pdf/0809.2932.pdf)\n",
    "* http://stats.stackexchange.com/questions/45643/why-l1-norm-for-sparse-models\n",
    "* UCI Machine Learning Repository [link](http://archive.ics.uci.edu/ml/index.html)\n",
    "* http://blog.datadive.net/selecting-good-features-part-ii-linear-models-and-regularization/"
   ]
  },
  {
   "cell_type": "markdown",
   "metadata": {},
   "source": [
    "## Experiment Design\n",
    "### Lasso\n",
    "* Dataset: synthetic examples, UCL ML dataset (regression, classification)\n",
    "    * y = x_0 + 0.5 x_1 + 0 * x_2 + noise\n",
    "    * y = x_0 + x_0 + noise\n",
    "* Regression path (different lambda/alpha)\n",
    "    * How will the weight/coefficient (same scale?) for each feature change with the lambda/alpha, @M2009 figure 1,4,7\n",
    "* Performance:\n",
    "    * How many features remain (relevent/irrelevent)\n",
    "    * Task performance\n",
    "\n",
    "\n",
    "### Bolasso & Bolasso-S\n"
   ]
  },
  {
   "cell_type": "code",
   "execution_count": 93,
   "metadata": {
    "collapsed": true
   },
   "outputs": [],
   "source": [
    "import matplotlib\n",
    "import matplotlib.pyplot as plt \n",
    "\n",
    "import numpy as np\n",
    "\n",
    "from sklearn.feature_selection import SelectFromModel\n",
    "from sklearn.linear_model import Lasso, LinearRegression, lasso_path\n",
    "\n",
    "%matplotlib inline "
   ]
  },
  {
   "cell_type": "code",
   "execution_count": 100,
   "metadata": {
    "collapsed": true
   },
   "outputs": [],
   "source": [
    "def plot_reg_path(alphas, coefs, f, log_x=False):\n",
    "    print alphas.shape, coefs.shape\n",
    "    for i in range(coefs.shape[0]):\n",
    "        plt.plot(alphas, coefs[i,:], label=f[i])\n",
    "        if log_x:\n",
    "            plt.xscale('log')\n",
    "    plt.legend()\n",
    "    plt.show()\n",
    "\n",
    "def plot_lasso_reg_path(X, y, alphas, f, log_x=False):\n",
    "    alphas, coef_path, _ = lasso_path(X, y, alphas=alphas)\n",
    "    plot_reg_path(alphas, coef_path, f, log_x)"
   ]
  },
  {
   "cell_type": "code",
   "execution_count": 113,
   "metadata": {
    "collapsed": false
   },
   "outputs": [
    {
     "name": "stdout",
     "output_type": "stream",
     "text": [
      "[ 1.12608333  0.80948128  0.90949936  0.87287791]\n",
      "[ 0.         -0.          1.47777778  0.        ]\n",
      "[ 0.   0.1  0.2  0.3  0.4  0.5  0.6  0.7  0.8  0.9]\n",
      "(10,) (4, 10)\n"
     ]
    },
    {
     "data": {
      "image/png": "[encoded data removed]",
      "text/plain": [
       "<matplotlib.figure.Figure at 0x109e6c550>"
      ]
     },
     "metadata": {},
     "output_type": "display_data"
    }
   ],
   "source": [
    "np.random.seed(1)\n",
    "\n",
    "# Exp 1\n",
    "n_data = 5000\n",
    "noise = np.random.normal(0, 1, n_data)\n",
    "x_seed = np.random.normal(0, 1, n_data)\n",
    "x_0 = 1 * x_seed + np.random.normal(0, 0.1, n_data)\n",
    "x_1 = -1 * x_seed + np.random.normal(0, 0.1, n_data)\n",
    "x_2 = 2 * x_seed + np.random.normal(0, 0.1, n_data)\n",
    "x_3 = 1 * x_seed + np.random.normal(0, 0.1, n_data)\n",
    "\n",
    "X = np.array([x_0, x_1, x_2, x_3]).T\n",
    "\n",
    "y = np.sum(X, axis=1) + noise\n",
    "# y = X[:,0] + X[:,1] + X[:,2] + noise\n",
    "\n",
    "lr = LinearRegression()\n",
    "lr.fit(X, y)\n",
    "print lr.coef_\n",
    "\n",
    "lr = Lasso(alpha=0.1)\n",
    "lr.fit(X, y)\n",
    "print lr.coef_\n",
    "\n",
    "# plot reg path for lasso on exp 1\n",
    "alphas = np.arange(0.0, 1.0, 0.1)\n",
    "# alphas = np.logspace(0.0,0.1,10)\n",
    "print alphas\n",
    "plot_lasso_reg_path(X, y, alphas, ['x_0', 'x_1', 'x_2', 'x_3'])"
   ]
  },
  {
   "cell_type": "code",
   "execution_count": null,
   "metadata": {
    "collapsed": true
   },
   "outputs": [],
   "source": []
  },
  {
   "cell_type": "code",
   "execution_count": null,
   "metadata": {
    "collapsed": true
   },
   "outputs": [],
   "source": []
  }
 ],
 "metadata": {
  "kernelspec": {
   "display_name": "Python 2",
   "language": "python",
   "name": "python2"
  },
  "language_info": {
   "codemirror_mode": {
    "name": "ipython",
    "version": 2
   },
   "file_extension": ".py",
   "mimetype": "text/x-python",
   "name": "python",
   "nbconvert_exporter": "python",
   "pygments_lexer": "ipython2",
   "version": "2.7.12"
  }
 },
 "nbformat": 4,
 "nbformat_minor": 0
}
